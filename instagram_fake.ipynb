{
 "cells": [
  {
   "cell_type": "code",
   "execution_count": 1,
   "metadata": {},
   "outputs": [],
   "source": [
    "import numpy as np\n",
    "import pandas as pd\n",
    "import matplotlib.pyplot as plt\n",
    "import seaborn as sns"
   ]
  },
  {
   "cell_type": "code",
   "execution_count": 21,
   "metadata": {},
   "outputs": [
    {
     "name": "stdout",
     "output_type": "stream",
     "text": [
      "type of instagram train data: <class 'pandas.core.frame.DataFrame'>\n",
      "length of instagram train data: 576\n",
      "example line of instagram train data:\n",
      "\n",
      "profile pic                1.00\n",
      "nums/length username       0.27\n",
      "fullname words             0.00\n",
      "nums/length fullname       0.00\n",
      "name==username             0.00\n",
      "description length        53.00\n",
      "external URL               0.00\n",
      "private                    0.00\n",
      "#posts                    32.00\n",
      "#followers              1000.00\n",
      "#follows                 955.00\n",
      "fake                       0.00\n",
      "Name: 0, dtype: float64\n"
     ]
    }
   ],
   "source": [
    "from sklearn.datasets import load_files\n",
    "\n",
    "train_data = pd.read_csv('data/train.csv', header = 0)\n",
    "\n",
    "print(\"type of instagram train data: {}\".format(type(train_data)))\n",
    "print(\"length of instagram train data: {}\".format(len(train_data)))\n",
    "print(\"example line of instagram train data:\\n\")\n",
    "print(train_data.iloc[0])"
   ]
  },
  {
   "cell_type": "code",
   "execution_count": 22,
   "metadata": {},
   "outputs": [
    {
     "name": "stdout",
     "output_type": "stream",
     "text": [
      "type of instagram test data: <class 'pandas.core.frame.DataFrame'>\n",
      "length of instagram test data: 120\n",
      "example line of instagram test data:\n",
      "\n",
      "profile pic               1.00\n",
      "nums/length username      0.33\n",
      "fullname words            1.00\n",
      "nums/length fullname      0.33\n",
      "name==username            1.00\n",
      "description length       30.00\n",
      "external URL              0.00\n",
      "private                   1.00\n",
      "#posts                   35.00\n",
      "#followers              488.00\n",
      "#follows                604.00\n",
      "fake                      0.00\n",
      "Name: 0, dtype: float64\n"
     ]
    }
   ],
   "source": [
    "test_data = pd.read_csv('data/test.csv', header = 0)\n",
    "\n",
    "print(\"type of instagram test data: {}\".format(type(test_data)))\n",
    "print(\"length of instagram test data: {}\".format(len(test_data)))\n",
    "print(\"example line of instagram test data:\\n\")\n",
    "print(test_data.iloc[0])"
   ]
  },
  {
   "cell_type": "code",
   "execution_count": null,
   "metadata": {},
   "outputs": [],
   "source": []
  }
 ],
 "metadata": {
  "kernelspec": {
   "display_name": "Python 3",
   "language": "python",
   "name": "python3"
  },
  "language_info": {
   "codemirror_mode": {
    "name": "ipython",
    "version": 3
   },
   "file_extension": ".py",
   "mimetype": "text/x-python",
   "name": "python",
   "nbconvert_exporter": "python",
   "pygments_lexer": "ipython3",
   "version": "3.8.3"
  }
 },
 "nbformat": 4,
 "nbformat_minor": 4
}
